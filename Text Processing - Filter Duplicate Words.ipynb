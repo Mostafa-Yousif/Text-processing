{
 "cells": [
  {
   "cell_type": "code",
   "execution_count": 5,
   "id": "a269ee99",
   "metadata": {},
   "outputs": [
    {
     "name": "stdout",
     "output_type": "stream",
     "text": [
      "Collecting Numpy\n",
      "  Downloading numpy-1.21.4-cp38-cp38-win_amd64.whl (14.0 MB)\n",
      "Installing collected packages: Numpy\n",
      "Successfully installed Numpy-1.21.4\n",
      "Note: you may need to restart the kernel to use updated packages.\n"
     ]
    }
   ],
   "source": [
    "pip install Numpy"
   ]
  },
  {
   "cell_type": "code",
   "execution_count": 9,
   "id": "eb1d8e83",
   "metadata": {},
   "outputs": [
    {
     "name": "stdout",
     "output_type": "stream",
     "text": [
      "Collecting nltk\n",
      "  Downloading nltk-3.6.5-py3-none-any.whl (1.5 MB)\n",
      "Collecting regex>=2021.8.3\n",
      "  Downloading regex-2021.11.10-cp38-cp38-win_amd64.whl (273 kB)\n",
      "Requirement already satisfied: click in c:\\users\\mostafa.yousif.ana\\anaconda3\\lib\\site-packages (from nltk) (8.0.3)\n",
      "Collecting joblib\n",
      "  Using cached joblib-1.1.0-py2.py3-none-any.whl (306 kB)\n",
      "Requirement already satisfied: tqdm in c:\\users\\mostafa.yousif.ana\\anaconda3\\lib\\site-packages (from nltk) (4.62.3)\n",
      "Requirement already satisfied: colorama in c:\\users\\mostafa.yousif.ana\\anaconda3\\lib\\site-packages (from click->nltk) (0.4.4)\n",
      "Installing collected packages: regex, joblib, nltk\n",
      "Successfully installed joblib-1.1.0 nltk-3.6.5 regex-2021.11.10\n",
      "Note: you may need to restart the kernel to use updated packages.\n"
     ]
    }
   ],
   "source": [
    "pip install nltk"
   ]
  },
  {
   "cell_type": "code",
   "execution_count": 11,
   "id": "69767094",
   "metadata": {},
   "outputs": [
    {
     "name": "stderr",
     "output_type": "stream",
     "text": [
      "[nltk_data] Downloading package punkt to\n",
      "[nltk_data]     C:\\Users\\Mostafa.Yousif.ANA\\AppData\\Roaming\\nltk_data.\n",
      "[nltk_data]     ..\n",
      "[nltk_data]   Unzipping tokenizers\\punkt.zip.\n"
     ]
    },
    {
     "data": {
      "text/plain": [
       "True"
      ]
     },
     "execution_count": 11,
     "metadata": {},
     "output_type": "execute_result"
    }
   ],
   "source": [
    "nltk.download('punkt')"
   ]
  },
  {
   "cell_type": "code",
   "execution_count": 12,
   "id": "be151006",
   "metadata": {},
   "outputs": [
    {
     "name": "stdout",
     "output_type": "stream",
     "text": [
      "['.', 'blue', 'Rainbow', 'has', 'the', 'The', 'colour', 'Sky', 'a', 'is', 'also', 'ocean']\n"
     ]
    }
   ],
   "source": [
    "import nltk\n",
    "word_data = \"The Sky is blue also the ocean is blue also Rainbow has a blue colour.\" \n",
    "\n",
    "# First Word tokenization\n",
    "nltk_tokens = nltk.word_tokenize(word_data)\n",
    "\n",
    "# Applying Set\n",
    "no_order = list(set(nltk_tokens))\n",
    "\n",
    "print (no_order)"
   ]
  },
  {
   "cell_type": "code",
   "execution_count": 13,
   "id": "6410d235",
   "metadata": {},
   "outputs": [
    {
     "name": "stdout",
     "output_type": "stream",
     "text": [
      "['The', 'Sky', 'is', 'blue', 'also', 'the', 'ocean', 'Rainbow', 'has', 'a', 'colour', '.']\n"
     ]
    }
   ],
   "source": [
    "import nltk\n",
    "word_data = \"The Sky is blue also the ocean is blue also Rainbow has a blue colour.\" \n",
    "# First Word tokenization\n",
    "nltk_tokens = nltk.word_tokenize(word_data)\n",
    "\n",
    "ordered_tokens = set()\n",
    "result = []\n",
    "for word in nltk_tokens:\n",
    "    if word not in ordered_tokens:\n",
    "        ordered_tokens.add(word)\n",
    "        result.append(word)\n",
    "     \n",
    "print (result)"
   ]
  },
  {
   "cell_type": "code",
   "execution_count": 14,
   "id": "386269da",
   "metadata": {},
   "outputs": [
    {
     "name": "stdout",
     "output_type": "stream",
     "text": [
      "[',', 'mango', 'Apple', 'my', 'and', 'but', 'Like', 'banana', 'cheldrens', 'like', 'I', 'wife', 'watermelon']\n"
     ]
    }
   ],
   "source": [
    "import nltk\n",
    "word_data = \"I Like watermelon and mango, but my wife like mango and banana, my cheldrens like Apple, mango and watermelon \" \n",
    "\n",
    "# First Word tokenization\n",
    "nltk_tokens = nltk.word_tokenize(word_data)\n",
    "\n",
    "# Applying Set\n",
    "no_order = list(set(nltk_tokens))\n",
    "\n",
    "print (no_order)"
   ]
  },
  {
   "cell_type": "code",
   "execution_count": 15,
   "id": "9ca938f6",
   "metadata": {},
   "outputs": [
    {
     "name": "stdout",
     "output_type": "stream",
     "text": [
      "['I', 'Like', 'watermelon', 'and', 'mango', ',', 'but', 'my', 'wife', 'like', 'banana', 'cheldrens', 'Apple']\n"
     ]
    }
   ],
   "source": [
    "import nltk\n",
    "word_data = \"I Like watermelon and mango, but my wife like mango and banana, my cheldrens like Apple, mango and watermelon \" \n",
    "# First Word tokenization\n",
    "nltk_tokens = nltk.word_tokenize(word_data)\n",
    "\n",
    "ordered_tokens = set()\n",
    "result = []\n",
    "for word in nltk_tokens:\n",
    "    if word not in ordered_tokens:\n",
    "        ordered_tokens.add(word)\n",
    "        result.append(word)\n",
    "     \n",
    "print (result)"
   ]
  },
  {
   "cell_type": "code",
   "execution_count": null,
   "id": "0ddb7320",
   "metadata": {},
   "outputs": [],
   "source": []
  }
 ],
 "metadata": {
  "kernelspec": {
   "display_name": "Python 3 (ipykernel)",
   "language": "python",
   "name": "python3"
  },
  "language_info": {
   "codemirror_mode": {
    "name": "ipython",
    "version": 3
   },
   "file_extension": ".py",
   "mimetype": "text/x-python",
   "name": "python",
   "nbconvert_exporter": "python",
   "pygments_lexer": "ipython3",
   "version": "3.8.8"
  }
 },
 "nbformat": 4,
 "nbformat_minor": 5
}
